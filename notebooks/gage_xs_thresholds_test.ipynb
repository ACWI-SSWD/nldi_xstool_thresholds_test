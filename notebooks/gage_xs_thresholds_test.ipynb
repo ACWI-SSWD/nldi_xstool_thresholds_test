{
 "cells": [
  {
   "cell_type": "code",
   "execution_count": 1,
   "metadata": {},
   "outputs": [],
   "source": [
    "%matplotlib inline\n",
    "from nldi_xstool.XSGen import XSGen\n",
    "from nldi_xstool.dem_query import query_dems_shape\n",
    "from nldi_xstool.nldi_xstool import getXSAtPoint, getXSAtEndPts\n",
    "import py3dep\n",
    "from pynhd import NLDI, NHDPlusHR, WaterData\n",
    "import xarray as xr\n",
    "from matplotlib import pyplot as plt\n",
    "import numpy as np\n",
    "import pandas as pd\n",
    "import dataretrieval.nwis as nwis\n",
    "import requests\n",
    "try:\n",
    "    from nldi_xstool.__openChannel import flowEst\n",
    "except ImportError:\n",
    "    from .__openChannel import flowEst"
   ]
  },
  {
   "cell_type": "code",
   "execution_count": 2,
   "metadata": {},
   "outputs": [],
   "source": [
    "# The following function converts NGVD29 to NAVD88 if gage is in NGVD29 using NOAA NGS Vertcon service api\n",
    "# https://www.ngs.noaa.gov/web_services/ncat/lat-long-height-service.shtml\n",
    "\n",
    "def getGageDatum(gagenum, verbose=False):\n",
    "    si = nwis.get_record(sites=gagenum, service='site')\n",
    "    if si['alt_datum_cd'].values[0] == 'NGVD29':\n",
    "#         print('conversion')\n",
    "        url = \"https://www.ngs.noaa.gov/api/ncat/llh\"\n",
    "        lat_str = 'lat_va'\n",
    "        lon_str = 'long_va'\n",
    "\n",
    "        alt_str = 'alt_va'\n",
    "        indatum_str = 'coord_datum_cd'\n",
    "        outdatum_str = 'NAD83(2011)'\n",
    "        inVertDataum_str = 'NGVD29'\n",
    "        outVertDataum = 'NAVD88'\n",
    "        if f'{si[indatum_str].values[0]}' == 'NAD83':\n",
    "            indatum = 'NAD83(2011)'\n",
    "        else:\n",
    "            indatum = f'{si[indatum_str].values[0]}'\n",
    "\n",
    "        ohgt = float(si[alt_str].values[0])*.3048\n",
    "#         repr(ohgt)\n",
    "        \n",
    "        tmplonstr = si[lon_str].values[0]\n",
    "#         print(tmplonstr, type(tmplonstr))\n",
    "        if len(str(tmplonstr)) == 6:\n",
    "#             print('adjust')\n",
    "            tstr = '0'\n",
    "            tmplonstr = (tstr + str(tmplonstr))\n",
    "#             print(f'adjust lon:{tmplonstr}')\n",
    "        payload = {\n",
    "            'lat':f'N{si[lat_str].values[0]}',\n",
    "            'lon':f'W{tmplonstr}',\n",
    "            'orthoHt': repr(ohgt),\n",
    "            'inDatum':indatum,\n",
    "            'outDatum':outdatum_str,\n",
    "            'inVertDatum':inVertDataum_str,\n",
    "            'outVertDatum':outVertDataum \n",
    "        }\n",
    "        r = requests.get(url, params=payload)\n",
    "        resp = r.json()\n",
    "        if verbose:\n",
    "            print(f'{si[indatum_str].values[0]}')\n",
    "            print(f'payload: {payload}')\n",
    "            print(resp)\n",
    "        return float(resp['destOrthoht'])\n",
    "    else:\n",
    "#         print('non-conversion')\n",
    "        return si['alt_va'].values[0]*.3048"
   ]
  },
  {
   "cell_type": "code",
   "execution_count": 3,
   "metadata": {},
   "outputs": [],
   "source": [
    "gage_ids = [\n",
    "    \"02334480\",\n",
    "    \"02335350\",\n",
    "    \"02207055\",\n",
    "    \"03321350\",\n",
    "    \"06811500\",\n",
    "    \"02312200\",\n",
    "    \"02312645\",\n",
    "    \"02149000\",\n",
    "    \"01100561\"]\n",
    "\n",
    "tmp_gage_id = \"11424550\" # gage has no comid so can't use xsatpoint function"
   ]
  },
  {
   "cell_type": "code",
   "execution_count": 4,
   "metadata": {},
   "outputs": [
    {
     "name": "stdout",
     "output_type": "stream",
     "text": [
      "02334480 -84.07000112324023 34.13249789061552 2044673 281.6352 11.75\n",
      "5\n",
      "02335350 -84.2647236518527 33.964997982470955 2048057 265.11504 11.67\n",
      "18\n",
      "02207055 -84.05888911794524 33.825276066697626 6333496 254.8128 9.21\n",
      "37\n",
      "03321350 -86.88749028943637 37.61893664346803 11616503 121.810272 15.12\n",
      "33\n",
      "06811500 -95.8127790778939 40.39277580145904 19161749 271.316 37.25\n",
      "22\n",
      "02312200 -82.15536264008355 28.572772598443212 16949670 17.734 18.91\n",
      "138\n",
      "02312645 -82.15703082155326 28.704434828955776 16949386 -0.247 13.1\n",
      "7\n",
      "02149000 -82.111666747376 35.42333068514993 12036581 248.332 28.39\n",
      "21\n",
      "01100561 -71.20839256268525 42.74314550119151 6744772 30.522672 25.47\n",
      "3\n"
     ]
    }
   ],
   "source": [
    "# Bankfull geometry: https://www.sciencebase.gov/catalog/item/5cf02bdae4b0b51330e22b85\n",
    "bf_geom = pd.read_csv('../BANKFULL_CONUS/BANKFULL_CONUS.txt')\n",
    "gage_datum_m = []\n",
    "gage_comid = []\n",
    "bf_width = []\n",
    "best_dem_res = []\n",
    "cross_sections = []\n",
    "for index, gage in enumerate(gage_ids):\n",
    "    \n",
    "    gage_datum_m.append(getGageDatum(gage, verbose=False))\n",
    "    gageloc = NLDI().getfeature_byid('nwissite', f'USGS-{gage}')\n",
    "    gage_comid.append(gageloc.comid.values.astype(int)[0])\n",
    "    bf_width.append(bf_geom.loc[bf_geom['COMID'] == gage_comid[index]]['BANKFULL_WIDTH'].values[0])\n",
    "    x = gageloc.geometry.x[0]\n",
    "    y = gageloc.geometry.y[0]\n",
    "    print(gage, x, y, gage_comid[index], gage_datum_m[index], bf_width[index])\n",
    "    cross_sections.append(getXSAtPoint((x,y), width=bf_width[index]*10, numpoints=101, res=1.0))"
   ]
  },
  {
   "cell_type": "code",
   "execution_count": 5,
   "metadata": {},
   "outputs": [
    {
     "data": {
      "text/plain": [
       "<matplotlib.legend.Legend at 0x7f5e68d55e80>"
      ]
     },
     "execution_count": 5,
     "metadata": {},
     "output_type": "execute_result"
    },
    {
     "data": {
      "image/png": "[encoded data removed]",
      "text/plain": [
       "<Figure size 432x288 with 1 Axes>"
      ]
     },
     "metadata": {
      "needs_background": "light"
     },
     "output_type": "display_data"
    }
   ],
   "source": [
    "fig, ax = plt.subplots()\n",
    "cross_sections[0].plot.line(x='distance', y='elevation', ax=ax)\n",
    "ax.axhline(y=287.039, color='r', linestyle='-', label='Suwanee Dam Road')\n",
    "ax.axhline(y=284.332, color='b', linestyle='-', label='Bank')\n",
    "ax.legend()"
   ]
  },
  {
   "cell_type": "code",
   "execution_count": 6,
   "metadata": {},
   "outputs": [],
   "source": [
    "xspts = [(-84.069592, 34.132959), (-84.070461,  34.131941)]\n",
    "xs2 = getXSAtEndPts(xspts, 101, res=1.0)"
   ]
  },
  {
   "cell_type": "code",
   "execution_count": 7,
   "metadata": {},
   "outputs": [
    {
     "data": {
      "text/plain": [
       "<matplotlib.legend.Legend at 0x7f5e6435bee0>"
      ]
     },
     "execution_count": 7,
     "metadata": {},
     "output_type": "execute_result"
    },
    {
     "data": {
      "image/png": "[encoded data removed]",
      "text/plain": [
       "<Figure size 432x288 with 1 Axes>"
      ]
     },
     "metadata": {
      "needs_background": "light"
     },
     "output_type": "display_data"
    }
   ],
   "source": [
    "fig, ax = plt.subplots()\n",
    "xs2.plot.line(x='distance', y='elevation', ax=ax)\n",
    "ax.axhline(y=287.039, color='r', linestyle='-', label='Suwanee Dam Road')\n",
    "ax.axhline(y=284.332, color='b', linestyle='-', label='Bank')\n",
    "ax.legend()"
   ]
  },
  {
   "cell_type": "code",
   "execution_count": 8,
   "metadata": {},
   "outputs": [
    {
     "data": {
      "text/html": [
       "<div>\n",
       "<style scoped>\n",
       "    .dataframe tbody tr th:only-of-type {\n",
       "        vertical-align: middle;\n",
       "    }\n",
       "\n",
       "    .dataframe tbody tr th {\n",
       "        vertical-align: top;\n",
       "    }\n",
       "\n",
       "    .dataframe thead th {\n",
       "        text-align: right;\n",
       "    }\n",
       "</style>\n",
       "<table border=\"1\" class=\"dataframe\">\n",
       "  <thead>\n",
       "    <tr style=\"text-align: right;\">\n",
       "      <th></th>\n",
       "      <th></th>\n",
       "      <th>geometry</th>\n",
       "      <th>source</th>\n",
       "      <th>sourceName</th>\n",
       "      <th>identifier</th>\n",
       "      <th>name</th>\n",
       "      <th>uri</th>\n",
       "      <th>comid</th>\n",
       "      <th>reachcode</th>\n",
       "      <th>measure</th>\n",
       "      <th>navigation</th>\n",
       "    </tr>\n",
       "  </thead>\n",
       "  <tbody>\n",
       "    <tr>\n",
       "      <th>USGS-01100561</th>\n",
       "      <th>0</th>\n",
       "      <td>POINT (-71.20839 42.74315)</td>\n",
       "      <td>nwissite</td>\n",
       "      <td>NWIS Sites</td>\n",
       "      <td>USGS-01100561</td>\n",
       "      <td>SPICKET RIVER NEAR METHUEN, MA</td>\n",
       "      <td>https://waterdata.usgs.gov/monitoring-location...</td>\n",
       "      <td>6744772</td>\n",
       "      <td>01070006000369</td>\n",
       "      <td>43.8444000000</td>\n",
       "      <td>https://labs.waterdata.usgs.gov/api/nldi/linke...</td>\n",
       "    </tr>\n",
       "  </tbody>\n",
       "</table>\n",
       "</div>"
      ],
      "text/plain": [
       "                                   geometry    source  sourceName  \\\n",
       "USGS-01100561 0  POINT (-71.20839 42.74315)  nwissite  NWIS Sites   \n",
       "\n",
       "                    identifier                            name  \\\n",
       "USGS-01100561 0  USGS-01100561  SPICKET RIVER NEAR METHUEN, MA   \n",
       "\n",
       "                                                               uri    comid  \\\n",
       "USGS-01100561 0  https://waterdata.usgs.gov/monitoring-location...  6744772   \n",
       "\n",
       "                      reachcode        measure  \\\n",
       "USGS-01100561 0  01070006000369  43.8444000000   \n",
       "\n",
       "                                                        navigation  \n",
       "USGS-01100561 0  https://labs.waterdata.usgs.gov/api/nldi/linke...  "
      ]
     },
     "execution_count": 8,
     "metadata": {},
     "output_type": "execute_result"
    }
   ],
   "source": [
    "gageloc"
   ]
  },
  {
   "cell_type": "code",
   "execution_count": 9,
   "metadata": {},
   "outputs": [
    {
     "data": {
      "text/plain": [
       "[281.6352,\n",
       " 265.11504,\n",
       " 254.8128,\n",
       " 121.810272,\n",
       " 271.316,\n",
       " 17.734,\n",
       " -0.247,\n",
       " 248.332,\n",
       " 30.522672]"
      ]
     },
     "execution_count": 9,
     "metadata": {},
     "output_type": "execute_result"
    }
   ],
   "source": [
    "gage_datum_m"
   ]
  },
  {
   "cell_type": "code",
   "execution_count": 10,
   "metadata": {},
   "outputs": [
    {
     "data": {
      "text/html": [
       "<div>\n",
       "<style scoped>\n",
       "    .dataframe tbody tr th:only-of-type {\n",
       "        vertical-align: middle;\n",
       "    }\n",
       "\n",
       "    .dataframe tbody tr th {\n",
       "        vertical-align: top;\n",
       "    }\n",
       "\n",
       "    .dataframe thead th {\n",
       "        text-align: right;\n",
       "    }\n",
       "</style>\n",
       "<table border=\"1\" class=\"dataframe\">\n",
       "  <thead>\n",
       "    <tr style=\"text-align: right;\">\n",
       "      <th></th>\n",
       "      <th>COMID</th>\n",
       "      <th>BANKFULL_WIDTH</th>\n",
       "      <th>BANKFULL_DEPTH</th>\n",
       "      <th>BANKFULL_XSEC_AREA</th>\n",
       "    </tr>\n",
       "  </thead>\n",
       "  <tbody>\n",
       "    <tr>\n",
       "      <th>0</th>\n",
       "      <td>-504212</td>\n",
       "      <td>-9999.00</td>\n",
       "      <td>-9999.00</td>\n",
       "      <td>-9999.00</td>\n",
       "    </tr>\n",
       "    <tr>\n",
       "      <th>1</th>\n",
       "      <td>-504211</td>\n",
       "      <td>-9999.00</td>\n",
       "      <td>-9999.00</td>\n",
       "      <td>-9999.00</td>\n",
       "    </tr>\n",
       "    <tr>\n",
       "      <th>2</th>\n",
       "      <td>-504210</td>\n",
       "      <td>-9999.00</td>\n",
       "      <td>-9999.00</td>\n",
       "      <td>-9999.00</td>\n",
       "    </tr>\n",
       "    <tr>\n",
       "      <th>3</th>\n",
       "      <td>-504209</td>\n",
       "      <td>-9999.00</td>\n",
       "      <td>-9999.00</td>\n",
       "      <td>-9999.00</td>\n",
       "    </tr>\n",
       "    <tr>\n",
       "      <th>4</th>\n",
       "      <td>-504208</td>\n",
       "      <td>-9999.00</td>\n",
       "      <td>-9999.00</td>\n",
       "      <td>-9999.00</td>\n",
       "    </tr>\n",
       "    <tr>\n",
       "      <th>...</th>\n",
       "      <td>...</td>\n",
       "      <td>...</td>\n",
       "      <td>...</td>\n",
       "      <td>...</td>\n",
       "    </tr>\n",
       "    <tr>\n",
       "      <th>2699859</th>\n",
       "      <td>948100736</td>\n",
       "      <td>2.81</td>\n",
       "      <td>0.15</td>\n",
       "      <td>0.38</td>\n",
       "    </tr>\n",
       "    <tr>\n",
       "      <th>2699860</th>\n",
       "      <td>948100737</td>\n",
       "      <td>10.04</td>\n",
       "      <td>0.40</td>\n",
       "      <td>3.76</td>\n",
       "    </tr>\n",
       "    <tr>\n",
       "      <th>2699861</th>\n",
       "      <td>948100738</td>\n",
       "      <td>8.13</td>\n",
       "      <td>0.34</td>\n",
       "      <td>2.57</td>\n",
       "    </tr>\n",
       "    <tr>\n",
       "      <th>2699862</th>\n",
       "      <td>948100739</td>\n",
       "      <td>15.98</td>\n",
       "      <td>0.58</td>\n",
       "      <td>8.73</td>\n",
       "    </tr>\n",
       "    <tr>\n",
       "      <th>2699863</th>\n",
       "      <td>948100740</td>\n",
       "      <td>15.73</td>\n",
       "      <td>0.57</td>\n",
       "      <td>8.48</td>\n",
       "    </tr>\n",
       "  </tbody>\n",
       "</table>\n",
       "<p>2699864 rows × 4 columns</p>\n",
       "</div>"
      ],
      "text/plain": [
       "             COMID  BANKFULL_WIDTH  BANKFULL_DEPTH  BANKFULL_XSEC_AREA\n",
       "0          -504212        -9999.00        -9999.00            -9999.00\n",
       "1          -504211        -9999.00        -9999.00            -9999.00\n",
       "2          -504210        -9999.00        -9999.00            -9999.00\n",
       "3          -504209        -9999.00        -9999.00            -9999.00\n",
       "4          -504208        -9999.00        -9999.00            -9999.00\n",
       "...            ...             ...             ...                 ...\n",
       "2699859  948100736            2.81            0.15                0.38\n",
       "2699860  948100737           10.04            0.40                3.76\n",
       "2699861  948100738            8.13            0.34                2.57\n",
       "2699862  948100739           15.98            0.58                8.73\n",
       "2699863  948100740           15.73            0.57                8.48\n",
       "\n",
       "[2699864 rows x 4 columns]"
      ]
     },
     "execution_count": 10,
     "metadata": {},
     "output_type": "execute_result"
    }
   ],
   "source": [
    "bf_geom = pd.read_csv('../BANKFULL_CONUS/BANKFULL_CONUS.txt')\n",
    "bf_geom"
   ]
  },
  {
   "cell_type": "code",
   "execution_count": 11,
   "metadata": {},
   "outputs": [],
   "source": [
    "bf_geom = pd.read_csv('../BANKFULL_CONUS/BANKFULL_CONUS.txt')\n",
    "gageloc = NLDI().getfeature_byid('nwissite', f'USGS-{gage_ids[0]}')\n",
    "comid = gageloc.comid.values.astype(int)[0]\n",
    "# print(comid[0])\n",
    "bf_width = bf_geom.loc[bf_geom['COMID'] == comid]['BANKFULL_WIDTH'].values[0]\n",
    "x = gageloc.geometry.x[0]\n",
    "y = gageloc.geometry.y[0]\n"
   ]
  },
  {
   "cell_type": "code",
   "execution_count": 12,
   "metadata": {},
   "outputs": [
    {
     "name": "stdout",
     "output_type": "stream",
     "text": [
      "23.5\n",
      "5\n"
     ]
    },
    {
     "data": {
      "text/html": [
       "<div>\n",
       "<style scoped>\n",
       "    .dataframe tbody tr th:only-of-type {\n",
       "        vertical-align: middle;\n",
       "    }\n",
       "\n",
       "    .dataframe tbody tr th {\n",
       "        vertical-align: top;\n",
       "    }\n",
       "\n",
       "    .dataframe thead th {\n",
       "        text-align: right;\n",
       "    }\n",
       "</style>\n",
       "<table border=\"1\" class=\"dataframe\">\n",
       "  <thead>\n",
       "    <tr style=\"text-align: right;\">\n",
       "      <th></th>\n",
       "      <th>elevation</th>\n",
       "      <th>distance</th>\n",
       "      <th>geometry</th>\n",
       "    </tr>\n",
       "    <tr>\n",
       "      <th>z</th>\n",
       "      <th></th>\n",
       "      <th></th>\n",
       "      <th></th>\n",
       "    </tr>\n",
       "  </thead>\n",
       "  <tbody>\n",
       "    <tr>\n",
       "      <th>0</th>\n",
       "      <td>284.681277</td>\n",
       "      <td>0.000</td>\n",
       "      <td>POINT (-84.06985 34.13266)</td>\n",
       "    </tr>\n",
       "    <tr>\n",
       "      <th>1</th>\n",
       "      <td>284.675236</td>\n",
       "      <td>0.235</td>\n",
       "      <td>POINT (-84.06985 34.13266)</td>\n",
       "    </tr>\n",
       "    <tr>\n",
       "      <th>2</th>\n",
       "      <td>284.668149</td>\n",
       "      <td>0.470</td>\n",
       "      <td>POINT (-84.06985 34.13266)</td>\n",
       "    </tr>\n",
       "    <tr>\n",
       "      <th>3</th>\n",
       "      <td>284.660017</td>\n",
       "      <td>0.705</td>\n",
       "      <td>POINT (-84.06985 34.13266)</td>\n",
       "    </tr>\n",
       "    <tr>\n",
       "      <th>4</th>\n",
       "      <td>284.650840</td>\n",
       "      <td>0.940</td>\n",
       "      <td>POINT (-84.06985 34.13265)</td>\n",
       "    </tr>\n",
       "    <tr>\n",
       "      <th>...</th>\n",
       "      <td>...</td>\n",
       "      <td>...</td>\n",
       "      <td>...</td>\n",
       "    </tr>\n",
       "    <tr>\n",
       "      <th>96</th>\n",
       "      <td>282.030893</td>\n",
       "      <td>22.560</td>\n",
       "      <td>POINT (-84.06998 34.13253)</td>\n",
       "    </tr>\n",
       "    <tr>\n",
       "      <th>97</th>\n",
       "      <td>282.007804</td>\n",
       "      <td>22.795</td>\n",
       "      <td>POINT (-84.06998 34.13253)</td>\n",
       "    </tr>\n",
       "    <tr>\n",
       "      <th>98</th>\n",
       "      <td>281.984510</td>\n",
       "      <td>23.030</td>\n",
       "      <td>POINT (-84.06998 34.13253)</td>\n",
       "    </tr>\n",
       "    <tr>\n",
       "      <th>99</th>\n",
       "      <td>281.960140</td>\n",
       "      <td>23.265</td>\n",
       "      <td>POINT (-84.06998 34.13253)</td>\n",
       "    </tr>\n",
       "    <tr>\n",
       "      <th>100</th>\n",
       "      <td>281.933250</td>\n",
       "      <td>23.500</td>\n",
       "      <td>POINT (-84.06998 34.13253)</td>\n",
       "    </tr>\n",
       "  </tbody>\n",
       "</table>\n",
       "<p>101 rows × 3 columns</p>\n",
       "</div>"
      ],
      "text/plain": [
       "      elevation  distance                    geometry\n",
       "z                                                    \n",
       "0    284.681277     0.000  POINT (-84.06985 34.13266)\n",
       "1    284.675236     0.235  POINT (-84.06985 34.13266)\n",
       "2    284.668149     0.470  POINT (-84.06985 34.13266)\n",
       "3    284.660017     0.705  POINT (-84.06985 34.13266)\n",
       "4    284.650840     0.940  POINT (-84.06985 34.13265)\n",
       "..          ...       ...                         ...\n",
       "96   282.030893    22.560  POINT (-84.06998 34.13253)\n",
       "97   282.007804    22.795  POINT (-84.06998 34.13253)\n",
       "98   281.984510    23.030  POINT (-84.06998 34.13253)\n",
       "99   281.960140    23.265  POINT (-84.06998 34.13253)\n",
       "100  281.933250    23.500  POINT (-84.06998 34.13253)\n",
       "\n",
       "[101 rows x 3 columns]"
      ]
     },
     "execution_count": 12,
     "metadata": {},
     "output_type": "execute_result"
    }
   ],
   "source": [
    "print(float(bf_width)*2.0)\n",
    "xs = getXSAtPoint((x,y), width=bf_width*2, numpoints=101, res=1.0)\n",
    "xs"
   ]
  },
  {
   "cell_type": "code",
   "execution_count": 13,
   "metadata": {},
   "outputs": [
    {
     "data": {
      "text/plain": [
       "11.75"
      ]
     },
     "execution_count": 13,
     "metadata": {},
     "output_type": "execute_result"
    }
   ],
   "source": [
    "bf_width"
   ]
  },
  {
   "cell_type": "code",
   "execution_count": 14,
   "metadata": {},
   "outputs": [
    {
     "data": {
      "text/plain": [
       "array([ 0.   ,  0.235,  0.47 ,  0.705,  0.94 ,  1.175,  1.41 ,  1.645,\n",
       "        1.88 ,  2.115,  2.35 ,  2.585,  2.82 ,  3.055,  3.29 ,  3.525,\n",
       "        3.76 ,  3.995,  4.23 ,  4.465,  4.7  ,  4.935,  5.17 ,  5.405,\n",
       "        5.64 ,  5.875,  6.11 ,  6.345,  6.58 ,  6.815,  7.05 ,  7.285,\n",
       "        7.52 ,  7.755,  7.99 ,  8.225,  8.46 ,  8.695,  8.93 ,  9.165,\n",
       "        9.4  ,  9.635,  9.87 , 10.105, 10.34 , 10.575, 10.81 , 11.045,\n",
       "       11.28 , 11.515, 11.75 , 11.985, 12.22 , 12.455, 12.69 , 12.925,\n",
       "       13.16 , 13.395, 13.63 , 13.865, 14.1  , 14.335, 14.57 , 14.805,\n",
       "       15.04 , 15.275, 15.51 , 15.745, 15.98 , 16.215, 16.45 , 16.685,\n",
       "       16.92 , 17.155, 17.39 , 17.625, 17.86 , 18.095, 18.33 , 18.565,\n",
       "       18.8  , 19.035, 19.27 , 19.505, 19.74 , 19.975, 20.21 , 20.445,\n",
       "       20.68 , 20.915, 21.15 , 21.385, 21.62 , 21.855, 22.09 , 22.325,\n",
       "       22.56 , 22.795, 23.03 , 23.265, 23.5  ])"
      ]
     },
     "execution_count": 14,
     "metadata": {},
     "output_type": "execute_result"
    }
   ],
   "source": [
    "xs[\"distance\"].values"
   ]
  },
  {
   "cell_type": "code",
   "execution_count": 15,
   "metadata": {},
   "outputs": [
    {
     "data": {
      "text/plain": [
       "<AxesSubplot:xlabel='distance', ylabel='elevation'>"
      ]
     },
     "execution_count": 15,
     "metadata": {},
     "output_type": "execute_result"
    },
    {
     "data": {
      "image/png": "[encoded data removed]",
      "text/plain": [
       "<Figure size 432x288 with 2 Axes>"
      ]
     },
     "metadata": {
      "needs_background": "light"
     },
     "output_type": "display_data"
    }
   ],
   "source": [
    "fig, ax = plt.subplots(1,2)\n",
    "xs.plot('elevation', ax=ax[0])\n",
    "xs.plot.scatter(x='distance', y='elevation', ax=ax[1])"
   ]
  },
  {
   "cell_type": "code",
   "execution_count": 16,
   "metadata": {},
   "outputs": [],
   "source": [
    "gageloc = NLDI().getfeature_byid('nwissite', f'USGS-{gage_ids[0]}').to_crs('epsg:3857')\n",
    "comid = gageloc.comid.values.astype(str)\n",
    "gage_strmseg = NLDI().getfeature_byid(\"comid\", comid[0]).to_crs('epsg:3857')"
   ]
  },
  {
   "cell_type": "code",
   "execution_count": 17,
   "metadata": {},
   "outputs": [
    {
     "data": {
      "text/html": [
       "<div>\n",
       "<style scoped>\n",
       "    .dataframe tbody tr th:only-of-type {\n",
       "        vertical-align: middle;\n",
       "    }\n",
       "\n",
       "    .dataframe tbody tr th {\n",
       "        vertical-align: top;\n",
       "    }\n",
       "\n",
       "    .dataframe thead th {\n",
       "        text-align: right;\n",
       "    }\n",
       "</style>\n",
       "<table border=\"1\" class=\"dataframe\">\n",
       "  <thead>\n",
       "    <tr style=\"text-align: right;\">\n",
       "      <th></th>\n",
       "      <th></th>\n",
       "      <th>geometry</th>\n",
       "      <th>source</th>\n",
       "      <th>sourceName</th>\n",
       "      <th>identifier</th>\n",
       "      <th>name</th>\n",
       "      <th>uri</th>\n",
       "      <th>comid</th>\n",
       "      <th>reachcode</th>\n",
       "      <th>measure</th>\n",
       "      <th>navigation</th>\n",
       "    </tr>\n",
       "  </thead>\n",
       "  <tbody>\n",
       "    <tr>\n",
       "      <th>USGS-02334480</th>\n",
       "      <th>0</th>\n",
       "      <td>POINT (-9358629.716 4046607.161)</td>\n",
       "      <td>nwissite</td>\n",
       "      <td>NWIS Sites</td>\n",
       "      <td>USGS-02334480</td>\n",
       "      <td>RICHLAND CREEK AT SUWANEE DAM ROAD, NEAR BUFOR...</td>\n",
       "      <td>https://waterdata.usgs.gov/monitoring-location...</td>\n",
       "      <td>2044673</td>\n",
       "      <td>03130001001331</td>\n",
       "      <td>63.3317600000</td>\n",
       "      <td>https://labs.waterdata.usgs.gov/api/nldi/linke...</td>\n",
       "    </tr>\n",
       "  </tbody>\n",
       "</table>\n",
       "</div>"
      ],
      "text/plain": [
       "                                         geometry    source  sourceName  \\\n",
       "USGS-02334480 0  POINT (-9358629.716 4046607.161)  nwissite  NWIS Sites   \n",
       "\n",
       "                    identifier  \\\n",
       "USGS-02334480 0  USGS-02334480   \n",
       "\n",
       "                                                              name  \\\n",
       "USGS-02334480 0  RICHLAND CREEK AT SUWANEE DAM ROAD, NEAR BUFOR...   \n",
       "\n",
       "                                                               uri    comid  \\\n",
       "USGS-02334480 0  https://waterdata.usgs.gov/monitoring-location...  2044673   \n",
       "\n",
       "                      reachcode        measure  \\\n",
       "USGS-02334480 0  03130001001331  63.3317600000   \n",
       "\n",
       "                                                        navigation  \n",
       "USGS-02334480 0  https://labs.waterdata.usgs.gov/api/nldi/linke...  "
      ]
     },
     "execution_count": 17,
     "metadata": {},
     "output_type": "execute_result"
    }
   ],
   "source": [
    "gageloc"
   ]
  },
  {
   "cell_type": "code",
   "execution_count": 18,
   "metadata": {},
   "outputs": [
    {
     "name": "stdout",
     "output_type": "stream",
     "text": [
      "5\n"
     ]
    },
    {
     "data": {
      "image/png": "[encoded data removed]",
      "text/plain": [
       "<Figure size 432x288 with 1 Axes>"
      ]
     },
     "metadata": {
      "needs_background": "light"
     },
     "output_type": "display_data"
    }
   ],
   "source": [
    "xs = XSGen(point=gageloc, cl_geom=gage_strmseg, ny=101, width=23.5, tension=10.0)\n",
    "xs_line = xs.get_xs()\n",
    "ax = plt.subplot(111)\n",
    "gageloc.plot(ax=ax)\n",
    "gage_strmseg.plot(ax=ax)\n",
    "xs_line.plot(ax=ax)\n",
    "xs.get_strm_seg_spline().plot(ax=ax, colors='r')\n",
    "xs_line.envelope.plot(ax=ax, facecolor=\"none\", edgecolor='black')\n",
    "plt.show()"
   ]
  },
  {
   "cell_type": "code",
   "execution_count": 19,
   "metadata": {},
   "outputs": [
    {
     "name": "stdout",
     "output_type": "stream",
     "text": [
      "            name                                           geometry\n",
      "0  cross-section  LINESTRING (-84.06985 34.13266, -84.06985 34.1...\n",
      "(-84.06998346587933, 34.13252625758786, -84.06984775064427, 34.13266010187424)\n",
      "{'res_1m': False, 'res_3m': True, 'res_5m': False, 'res_10m': True, 'res_30m': True, 'res_60m': False}\n"
     ]
    }
   ],
   "source": [
    "xs_line_geom = xs_line.to_crs('epsg:4326')\n",
    "print(xs_line_geom)\n",
    "bbox = xs_line_geom.geometry[0].envelope.bounds\n",
    "print(bbox)\n",
    "query = query_dems_shape(bbox)\n",
    "print(query)"
   ]
  },
  {
   "cell_type": "code",
   "execution_count": 20,
   "metadata": {},
   "outputs": [
    {
     "name": "stdout",
     "output_type": "stream",
     "text": [
      "15.107750859111547 18.000162887386978\n"
     ]
    },
    {
     "data": {
      "text/plain": [
       "(-9358727.74433448, 4046510.9825387206, -9358512.648755891, 4046728.9705293356)"
      ]
     },
     "execution_count": 20,
     "metadata": {},
     "output_type": "execute_result"
    }
   ],
   "source": [
    "bbox = xs_line.geometry[0].bounds\n",
    "width = abs(bbox[0]-bbox[2])\n",
    "height = abs(bbox[1]-bbox[3])\n",
    "print(width, height)\n",
    "bb = xs_line.buffer(100)\n",
    "bb.geometry[0].bounds"
   ]
  },
  {
   "cell_type": "code",
   "execution_count": 21,
   "metadata": {
    "tags": []
   },
   "outputs": [
    {
     "data": {
      "text/plain": [
       "(-9358727.744334482, -9358512.64875589, 4046510.9825387206, 4046791.0424907836)"
      ]
     },
     "execution_count": 21,
     "metadata": {},
     "output_type": "execute_result"
    },
    {
     "data": {
      "image/png": "[encoded data removed]",
      "text/plain": [
       "<Figure size 432x288 with 2 Axes>"
      ]
     },
     "metadata": {
      "needs_background": "light"
     },
     "output_type": "display_data"
    }
   ],
   "source": [
    "t1 = (xs_line.total_bounds) + ((-100.,-100.,100., 100.))\n",
    "dem = py3dep.get_map(\"DEM\", bb.geometry[0].bounds, resolution=30.0, geo_crs=\"EPSG:3857\", crs=\"epsg:3857\")\n",
    "\n",
    "ax = plt.subplot(111)\n",
    "gage_strmseg.plot(ax=ax)\n",
    "xs_line.plot(ax=ax, colors='black')\n",
    "xs.get_strm_seg_spline().plot(ax=ax, colors='r')\n",
    "xs_line.envelope.plot(ax=ax, facecolor=\"none\", edgecolor='black')\n",
    "dem.plot(ax=ax)\n",
    "gageloc.plot(ax=ax)\n",
    "ax.axis('equal')"
   ]
  },
  {
   "cell_type": "code",
   "execution_count": null,
   "metadata": {},
   "outputs": [],
   "source": []
  }
 ],
 "metadata": {
  "kernelspec": {
   "display_name": "Python 3",
   "language": "python",
   "name": "python3"
  },
  "language_info": {
   "codemirror_mode": {
    "name": "ipython",
    "version": 3
   },
   "file_extension": ".py",
   "mimetype": "text/x-python",
   "name": "python",
   "nbconvert_exporter": "python",
   "pygments_lexer": "ipython3",
   "version": "3.9.2"
  }
 },
 "nbformat": 4,
 "nbformat_minor": 4
}
